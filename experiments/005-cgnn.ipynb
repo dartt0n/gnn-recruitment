version https://git-lfs.github.com/spec/v1
oid sha256:80c9efd90cf1b5feae0b1bd7370bc8fce2333d7722220bf5c8503cc9d89127c4
size 41937
