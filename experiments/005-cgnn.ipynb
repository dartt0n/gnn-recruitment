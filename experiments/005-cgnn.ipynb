version https://git-lfs.github.com/spec/v1
oid sha256:7fcd224c342557c942a5f7782c00a1c95fb600f7e1b6a2ed59f2ae649c867776
size 41877
