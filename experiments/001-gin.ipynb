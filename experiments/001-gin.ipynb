version https://git-lfs.github.com/spec/v1
oid sha256:2dcfea0a2757be311469df7ec3e73ddb712cfdf7b2c6b325d42c6892bcace9c0
size 85139
